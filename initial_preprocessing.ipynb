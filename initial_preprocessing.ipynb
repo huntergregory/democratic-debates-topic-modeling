{
 "cells": [
  {
   "cell_type": "code",
   "execution_count": 1,
   "metadata": {},
   "outputs": [],
   "source": [
    "import pandas as pd\n",
    "import numpy as np\n",
    "import matplotlib.pyplot as plt\n",
    "import re\n",
    "from collections import Counter\n",
    "# pd.set_option('display.max_colwidth', None)"
   ]
  },
  {
   "cell_type": "code",
   "execution_count": 2,
   "metadata": {},
   "outputs": [],
   "source": [
    "import nltk\n",
    "from nltk.corpus import stopwords \n",
    "from nltk.stem import WordNetLemmatizer \n",
    "from nltk import pos_tag\n",
    "\n",
    "our_stopwords = set(stopwords.words('english'))\n",
    "custom_stopwords = set(['bag', 'bad', 'but', 'the',\n",
    " 'that',\n",
    " 'senator',\n",
    " 'think',\n",
    " 'need',\n",
    " 'american',\n",
    " 'right',\n",
    " 'would',\n",
    " 'country',\n",
    " 'one',\n",
    " 'want',\n",
    " 'make',\n",
    " 'and',\n",
    " 'president',\n",
    " 'say',\n",
    " 'go',\n",
    " 'get',\n",
    " 'people',  'every',\n",
    " 'but',\n",
    " 'let',\n",
    " 'look',\n",
    " 'america',\n",
    " 'thing',\n",
    " 'time',\n",
    " 'you',\n",
    " 'come',\n",
    " 'like',\n",
    " 'way',\n",
    " 'talk',\n",
    " 'take',\n",
    " 'well',\n",
    " 'know',\n",
    " 'year', 'first', 'back', \n",
    " 'vice',\n",
    " 'big',\n",
    " 'happen',\n",
    " 'much',\n",
    " 'something',\n",
    " 'tell',\n",
    " 'actually',\n",
    " 'ask',\n",
    " 'start',\n",
    " 'two',\n",
    " 'many',\n",
    " 'stage',\n",
    " 'bring',\n",
    " 'also',\n",
    " 'day',\n",
    " 'mayor',\n",
    " 'what',\n",
    " 'new',\n",
    " 'they',\n",
    " 'sure',\n",
    " 'issue',\n",
    " 'this',\n",
    " 'put',\n",
    " 'question',\n",
    " 'fact',\n",
    " 'see',\n",
    " 'thank',\n",
    " 'do', 'elect',\n",
    " 'wrong',\n",
    " 'political',\n",
    " 'without',\n",
    " 'forward',\n",
    " 'continue',\n",
    " 'kind',\n",
    " 'break',\n",
    " 'face',\n",
    " 'member',\n",
    " 'begin',\n",
    " 'must',\n",
    " 'across',\n",
    " 'how',\n",
    " 'long',\n",
    " 'four',\n",
    " 'ago',\n",
    " 'show',\n",
    " 'live',\n",
    " 'now',\n",
    " 'best',\n",
    " 'still',\n",
    " 'enough',\n",
    " 'important',\n",
    " 'because',\n",
    " 'else',\n",
    " 'term',\n",
    " 'answer',\n",
    " 'real',\n",
    " 'different',\n",
    " 'lose',\n",
    " 'matter',\n",
    "#  'person',\n",
    " 'never',\n",
    " 'understand',\n",
    " 'someone',\n",
    " 'stop',\n",
    " 'clear',\n",
    " 'second',\n",
    " 'create',\n",
    " 'include',\n",
    " 'next',\n",
    " 'really',\n",
    " 'whether',\n",
    " 'great',\n",
    " 'yes',\n",
    " 'beat',\n",
    " 'away',\n",
    "#  'worker',\n",
    " 'keep',\n",
    " 'agree',\n",
    "#  'biden',\n",
    "#  'kid',\n",
    "#  'idea',\n",
    " 'move',\n",
    "#  'congress',\n",
    "#  'trade',\n",
    "#  'campaign',\n",
    "#  'house',\n",
    "#  'senate',\n",
    " 'single',\n",
    " 'three',\n",
    " 'tonight',\n",
    "#  'dollar',\n",
    "#  'home',\n",
    "#  'voter',\n",
    "#  'drug',\n",
    " 'place',\n",
    " 'turn',\n",
    " 'stand',\n",
    " 'today',\n",
    "#  'black',\n",
    "#  'lead',\n",
    " 'there',\n",
    "#  'warren',\n",
    "#  'election',\n",
    " 'when',\n",
    " 'cost',\n",
    "#  'health',\n",
    "#  'law',\n",
    "#  'party',\n",
    " 'around',\n",
    " 'mean',\n",
    " 'use',\n",
    "#  'government',\n",
    "#  'justice',\n",
    " 'mr',\n",
    " 'good',\n",
    " 'run',\n",
    "#  'republican',\n",
    " 'all',\n",
    " 'could',\n",
    "#  'gun',\n",
    "#  'economy',\n",
    " 'call',\n",
    " 'help',\n",
    "#  'life',\n",
    " 'debate',\n",
    "#  'public',\n",
    "#  'school',\n",
    " 'try',\n",
    " 'point',\n",
    "#  'care',\n",
    "#  'child',\n",
    " 'win',\n",
    "#  'bill',\n",
    "#  'system',\n",
    " 'last',\n",
    "#  'everyone',\n",
    " 'number',\n",
    " 'part',\n",
    " 'lot',\n",
    "#  'medicare',\n",
    " 'even'])\n",
    "our_stopwords = our_stopwords.union(custom_stopwords)\n",
    "ps = WordNetLemmatizer()"
   ]
  },
  {
   "cell_type": "code",
   "execution_count": 3,
   "metadata": {},
   "outputs": [],
   "source": [
    "# other_stop_words = [\n",
    "#     'and', 'they', 'how', 'now', 'when', 'minute', 'second', \n",
    "# ]\n",
    "# for stop in other_stop_words:\n",
    "#     our_stopwords.add(stop)"
   ]
  },
  {
   "cell_type": "code",
   "execution_count": 4,
   "metadata": {},
   "outputs": [],
   "source": [
    "data20 = pd.read_csv(\"debate_transcripts_v3_2020-02-26.csv\", encoding='latin-1')"
   ]
  },
  {
   "cell_type": "code",
   "execution_count": 5,
   "metadata": {
    "scrolled": true
   },
   "outputs": [
    {
     "name": "stderr",
     "output_type": "stream",
     "text": [
      "/Library/Frameworks/Python.framework/Versions/3.7/lib/python3.7/site-packages/pandas/core/indexing.py:190: SettingWithCopyWarning: \n",
      "A value is trying to be set on a copy of a slice from a DataFrame\n",
      "\n",
      "See the caveats in the documentation: http://pandas.pydata.org/pandas-docs/stable/indexing.html#indexing-view-versus-copy\n",
      "  self._setitem_with_indexer(indexer, value)\n"
     ]
    }
   ],
   "source": [
    "data20['speaker'].loc[5890] = \"Julian Castro\"\n",
    "data20['speaker'].loc[5891] = \"Julian Castro\""
   ]
  },
  {
   "cell_type": "code",
   "execution_count": 6,
   "metadata": {},
   "outputs": [
    {
     "name": "stdout",
     "output_type": "stream",
     "text": [
      "Thank you Senator. Our next question goes to Senator Klobuchar. About 700,000 young people known as Dreamers or Soñadores, who were brought to this country as children, are currently protected from deportation because of a program that is now under the review by the Supreme Court. If the Court sides with the Trump administration, which is eager to end this protection, what exactly is your plan to protect the Dreamers permanently?\n"
     ]
    }
   ],
   "source": [
    "chars = set()\n",
    "for s in data20.speech:\n",
    "    for char in s:\n",
    "        chars.add(char)\n",
    "        if char == 'ñ':\n",
    "            print(s)"
   ]
  },
  {
   "cell_type": "code",
   "execution_count": 7,
   "metadata": {
    "scrolled": true
   },
   "outputs": [
    {
     "data": {
      "text/plain": [
       "{' ',\n",
       " '!',\n",
       " '$',\n",
       " '%',\n",
       " '&',\n",
       " \"'\",\n",
       " '(',\n",
       " ')',\n",
       " ',',\n",
       " '-',\n",
       " '.',\n",
       " '/',\n",
       " '0',\n",
       " '1',\n",
       " '2',\n",
       " '3',\n",
       " '4',\n",
       " '5',\n",
       " '6',\n",
       " '7',\n",
       " '8',\n",
       " '9',\n",
       " ':',\n",
       " ';',\n",
       " '?',\n",
       " '@',\n",
       " 'A',\n",
       " 'B',\n",
       " 'C',\n",
       " 'D',\n",
       " 'E',\n",
       " 'F',\n",
       " 'G',\n",
       " 'H',\n",
       " 'I',\n",
       " 'J',\n",
       " 'K',\n",
       " 'L',\n",
       " 'M',\n",
       " 'N',\n",
       " 'O',\n",
       " 'P',\n",
       " 'Q',\n",
       " 'R',\n",
       " 'S',\n",
       " 'T',\n",
       " 'U',\n",
       " 'V',\n",
       " 'W',\n",
       " 'X',\n",
       " 'Y',\n",
       " 'Z',\n",
       " '[',\n",
       " ']',\n",
       " 'a',\n",
       " 'b',\n",
       " 'c',\n",
       " 'd',\n",
       " 'e',\n",
       " 'f',\n",
       " 'g',\n",
       " 'h',\n",
       " 'i',\n",
       " 'j',\n",
       " 'k',\n",
       " 'l',\n",
       " 'm',\n",
       " 'n',\n",
       " 'o',\n",
       " 'p',\n",
       " 'q',\n",
       " 'r',\n",
       " 's',\n",
       " 't',\n",
       " 'u',\n",
       " 'v',\n",
       " 'w',\n",
       " 'x',\n",
       " 'y',\n",
       " 'z',\n",
       " '\\x85',\n",
       " '\\x91',\n",
       " '\\x92',\n",
       " '\\x93',\n",
       " '\\x94',\n",
       " '\\x96',\n",
       " '\\x97',\n",
       " 'í',\n",
       " 'ñ'}"
      ]
     },
     "execution_count": 7,
     "metadata": {},
     "output_type": "execute_result"
    }
   ],
   "source": [
    "chars"
   ]
  },
  {
   "cell_type": "code",
   "execution_count": 8,
   "metadata": {},
   "outputs": [],
   "source": [
    "candidate_names = \"\"\"Andrew Yang\n",
    "John Delaney\n",
    "Elizabeth Warren\n",
    "Beto O’Rourke\n",
    "Beto O'Rourke\n",
    "Pete Buttigieg\n",
    "Bernie Sanders\n",
    "Steve Bullock\n",
    "Michael Bennet\n",
    "Amy Klobuchar\n",
    "Kamala Harris\n",
    "Tulsi Gabbard\n",
    "Marriane Williamson\n",
    "Julian Castro\n",
    "Cory Booker\n",
    "Joe Biden\n",
    "Jay Inslee\n",
    "John Hickenlooper\n",
    "Tom Steyer\n",
    "Michael Bloomberg\n",
    "Eric Swalwell\n",
    "Bill De Blasio\n",
    "Kirsten Gillibrand\n",
    "Seth Moulton\n",
    "Tim Ryan\"\"\"\n",
    "candidate_names = candidate_names.split(\"\\n\")\n",
    "candidate_set = set(candidate_names)"
   ]
  },
  {
   "cell_type": "code",
   "execution_count": 9,
   "metadata": {},
   "outputs": [],
   "source": [
    "candidates_bool = [True if i in candidate_set else False for i in data20['speaker']]\n",
    "data20['candidate'] = candidates_bool"
   ]
  },
  {
   "cell_type": "code",
   "execution_count": 10,
   "metadata": {},
   "outputs": [],
   "source": [
    "data20['speech'] = [re.sub('[\\x85,\\x91,\\x93,\\x94,\\x96,\\x97]', '', s) for s in data20['speech']] # remove unicode chars\n",
    "data20['speech'] = [re.sub('\\x92', \"'\", s) for s in data20['speech']] # replace apostrophe symbol\n",
    "data20['speech'] = [re.sub(r'\\[[\\w :]+\\]', \" \", s) for s in data20['speech']]\n",
    "temp = list(data20['speech']).copy()\n",
    "\n",
    "last_cutoff = None\n",
    "last_cutoff_spot = -10\n",
    "last_cutoff_speaker = \"\"\n",
    "no_goods = []\n",
    "for i in range(len(data20['speech'])-1, -1, -1):\n",
    "    if data20['speech'].iloc[i].startswith(\"…\"):\n",
    "        print(i)\n",
    "        last_cutoff = data20['speech'].iloc[i]\n",
    "        last_cutoff_speaker = data20['speaker'].iloc[i]\n",
    "        for j in range(1,4):\n",
    "            if last_cutoff_speaker == data20['speaker'].iloc[i-j]:\n",
    "                if data20['speech'].iloc[i-j].endswith(\"-\"):\n",
    "                    data20['speech'].iloc[i-j] = data20['speech'].iloc[i-j] + last_cutoff\n",
    "                    no_goods.append(i)\n",
    "                break\n",
    "\n",
    "# concatenate 2 if they are back to back with same speaker"
   ]
  },
  {
   "cell_type": "code",
   "execution_count": 11,
   "metadata": {},
   "outputs": [],
   "source": [
    "data20 = data20[~data20.index.isin(no_goods)].reset_index(drop=True)"
   ]
  },
  {
   "cell_type": "code",
   "execution_count": 12,
   "metadata": {},
   "outputs": [
    {
     "name": "stdout",
     "output_type": "stream",
     "text": [
      "3\n",
      "12    Look the way I see this is that Bernie is winn...\n",
      "13    I dug in I did the work and then Bernie's team...\n",
      "14    Mayor Buttigieg we want to bring you in his co...\n",
      "15    I'll tell you what the Russians want. They don...\n",
      "17    Bernie Sanders' analysis is right. The differe...\n",
      "18                                Vice President Biden.\n",
      "19    Well let me just finish because we need to hav...\n",
      "20    Mr. Steyer thank you your time's up. Vice Pres...\n",
      "21    We talk about progressive let's talk about bei...\n",
      "22                       Senator Sanders your response.\n",
      "Name: speech, dtype: object\n",
      "\n",
      "4\n",
      "12    Look the way I see this is that Bernie is winn...\n",
      "13    I dug in I did the work and then Bernie's team...\n",
      "14    Mayor Buttigieg we want to bring you in his co...\n",
      "15    I'll tell you what the Russians want. They don...\n",
      "17    Bernie Sanders' analysis is right. The differe...\n",
      "19    Well let me just finish because we need to hav...\n",
      "20    Mr. Steyer thank you your time's up. Vice Pres...\n",
      "21    We talk about progressive let's talk about bei...\n",
      "22                       Senator Sanders your response.\n",
      "23    Pete mentioned  I'm hearing my name mentioned ...\n",
      "Name: speech, dtype: object\n",
      "\n",
      "5\n",
      "12    Look the way I see this is that Bernie is winn...\n",
      "13    I dug in I did the work and then Bernie's team...\n",
      "14    Mayor Buttigieg we want to bring you in his co...\n",
      "15    I'll tell you what the Russians want. They don...\n",
      "17    Bernie Sanders' analysis is right. The differe...\n",
      "19    Well let me just finish because we need to hav...\n",
      "20    Mr. Steyer thank you your time's up. Vice Pres...\n",
      "21    We talk about progressive let's talk about bei...\n",
      "23    Pete mentioned  I'm hearing my name mentioned ...\n",
      "24                Let's clear this up once and for all.\n",
      "Name: speech, dtype: object\n",
      "\n",
      "6\n",
      "12    Look the way I see this is that Bernie is winn...\n",
      "13    I dug in I did the work and then Bernie's team...\n",
      "14    Mayor Buttigieg we want to bring you in his co...\n",
      "15    I'll tell you what the Russians want. They don...\n",
      "17    Bernie Sanders' analysis is right. The differe...\n",
      "19    Well let me just finish because we need to hav...\n",
      "20    Mr. Steyer thank you your time's up. Vice Pres...\n",
      "21    We talk about progressive let's talk about bei...\n",
      "23    Pete mentioned  I'm hearing my name mentioned ...\n",
      "24                Let's clear this up once and for all.\n",
      "Name: speech, dtype: object\n",
      "\n",
      "7\n",
      "12    Look the way I see this is that Bernie is winn...\n",
      "13    I dug in I did the work and then Bernie's team...\n",
      "14    Mayor Buttigieg we want to bring you in his co...\n",
      "15    I'll tell you what the Russians want. They don...\n",
      "17    Bernie Sanders' analysis is right. The differe...\n",
      "19    Well let me just finish because we need to hav...\n",
      "20    Mr. Steyer thank you your time's up. Vice Pres...\n",
      "21    We talk about progressive let's talk about bei...\n",
      "23    Pete mentioned  I'm hearing my name mentioned ...\n",
      "24                Let's clear this up once and for all.\n",
      "Name: speech, dtype: object\n",
      "\n",
      "8\n",
      "12    Look the way I see this is that Bernie is winn...\n",
      "13    I dug in I did the work and then Bernie's team...\n",
      "14    Mayor Buttigieg we want to bring you in his co...\n",
      "15    I'll tell you what the Russians want. They don...\n",
      "17    Bernie Sanders' analysis is right. The differe...\n",
      "19    Well let me just finish because we need to hav...\n",
      "20    Mr. Steyer thank you your time's up. Vice Pres...\n",
      "21    We talk about progressive let's talk about bei...\n",
      "23    Pete mentioned  I'm hearing my name mentioned ...\n",
      "24                Let's clear this up once and for all.\n",
      "Name: speech, dtype: object\n",
      "\n",
      "9\n",
      "12    Look the way I see this is that Bernie is winn...\n",
      "13    I dug in I did the work and then Bernie's team...\n",
      "14    Mayor Buttigieg we want to bring you in his co...\n",
      "15    I'll tell you what the Russians want. They don...\n",
      "17    Bernie Sanders' analysis is right. The differe...\n",
      "19    Well let me just finish because we need to hav...\n",
      "20    Mr. Steyer thank you your time's up. Vice Pres...\n",
      "21    We talk about progressive let's talk about bei...\n",
      "23    Pete mentioned  I'm hearing my name mentioned ...\n",
      "25    Pete has gotten funding   from 50 billionaires...\n",
      "Name: speech, dtype: object\n",
      "\n",
      "10\n",
      "12    Look the way I see this is that Bernie is winn...\n",
      "13    I dug in I did the work and then Bernie's team...\n",
      "14    Mayor Buttigieg we want to bring you in his co...\n",
      "15    I'll tell you what the Russians want. They don...\n",
      "17    Bernie Sanders' analysis is right. The differe...\n",
      "19    Well let me just finish because we need to hav...\n",
      "20    Mr. Steyer thank you your time's up. Vice Pres...\n",
      "21    We talk about progressive let's talk about bei...\n",
      "23    Pete mentioned  I'm hearing my name mentioned ...\n",
      "25    Pete has gotten funding   from 50 billionaires...\n",
      "Name: speech, dtype: object\n",
      "\n",
      "11\n",
      "13    I dug in I did the work and then Bernie's team...\n",
      "14    Mayor Buttigieg we want to bring you in his co...\n",
      "15    I'll tell you what the Russians want. They don...\n",
      "17    Bernie Sanders' analysis is right. The differe...\n",
      "19    Well let me just finish because we need to hav...\n",
      "21    We talk about progressive let's talk about bei...\n",
      "23    Pete mentioned  I'm hearing my name mentioned ...\n",
      "25    Pete has gotten funding   from 50 billionaires...\n",
      "26    I can't allow this to stand because it's just ...\n",
      "28    50 people. All right in Charleston alone just ...\n",
      "Name: speech, dtype: object\n",
      "\n",
      "12\n",
      "13    I dug in I did the work and then Bernie's team...\n",
      "14    Mayor Buttigieg we want to bring you in his co...\n",
      "15    I'll tell you what the Russians want. They don...\n",
      "17    Bernie Sanders' analysis is right. The differe...\n",
      "19    Well let me just finish because we need to hav...\n",
      "21    We talk about progressive let's talk about bei...\n",
      "23    Pete mentioned  I'm hearing my name mentioned ...\n",
      "25    Pete has gotten funding   from 50 billionaires...\n",
      "26    I can't allow this to stand because it's just ...\n",
      "28    50 people. All right in Charleston alone just ...\n",
      "Name: speech, dtype: object\n",
      "\n",
      "13\n",
      "13    I dug in I did the work and then Bernie's team...\n",
      "14    Mayor Buttigieg we want to bring you in his co...\n",
      "15    I'll tell you what the Russians want. They don...\n",
      "17    Bernie Sanders' analysis is right. The differe...\n",
      "19    Well let me just finish because we need to hav...\n",
      "21    We talk about progressive let's talk about bei...\n",
      "23    Pete mentioned  I'm hearing my name mentioned ...\n",
      "25    Pete has gotten funding   from 50 billionaires...\n",
      "26    I can't allow this to stand because it's just ...\n",
      "28    50 people. All right in Charleston alone just ...\n",
      "Name: speech, dtype: object\n",
      "\n",
      "14\n",
      "13    I dug in I did the work and then Bernie's team...\n",
      "14    Mayor Buttigieg we want to bring you in his co...\n",
      "15    I'll tell you what the Russians want. They don...\n",
      "17    Bernie Sanders' analysis is right. The differe...\n",
      "19    Well let me just finish because we need to hav...\n",
      "21    We talk about progressive let's talk about bei...\n",
      "23    Pete mentioned  I'm hearing my name mentioned ...\n",
      "25    Pete has gotten funding   from 50 billionaires...\n",
      "26    I can't allow this to stand because it's just ...\n",
      "28    50 people. All right in Charleston alone just ...\n",
      "Name: speech, dtype: object\n",
      "\n",
      "15\n",
      "13    I dug in I did the work and then Bernie's team...\n",
      "14    Mayor Buttigieg we want to bring you in his co...\n",
      "15    I'll tell you what the Russians want. They don...\n",
      "17    Bernie Sanders' analysis is right. The differe...\n",
      "19    Well let me just finish because we need to hav...\n",
      "21    We talk about progressive let's talk about bei...\n",
      "23    Pete mentioned  I'm hearing my name mentioned ...\n",
      "25    Pete has gotten funding   from 50 billionaires...\n",
      "26    I can't allow this to stand because it's just ...\n",
      "28    50 people. All right in Charleston alone just ...\n",
      "Name: speech, dtype: object\n",
      "\n",
      "16\n",
      "13    I dug in I did the work and then Bernie's team...\n",
      "14    Mayor Buttigieg we want to bring you in his co...\n",
      "15    I'll tell you what the Russians want. They don...\n",
      "17    Bernie Sanders' analysis is right. The differe...\n",
      "19    Well let me just finish because we need to hav...\n",
      "21    We talk about progressive let's talk about bei...\n",
      "23    Pete mentioned  I'm hearing my name mentioned ...\n",
      "25    Pete has gotten funding   from 50 billionaires...\n",
      "26    I can't allow this to stand because it's just ...\n",
      "28    50 people. All right in Charleston alone just ...\n",
      "Name: speech, dtype: object\n",
      "\n",
      "17\n",
      "13    I dug in I did the work and then Bernie's team...\n",
      "14    Mayor Buttigieg we want to bring you in his co...\n",
      "15    I'll tell you what the Russians want. They don...\n",
      "17    Bernie Sanders' analysis is right. The differe...\n",
      "19    Well let me just finish because we need to hav...\n",
      "21    We talk about progressive let's talk about bei...\n",
      "23    Pete mentioned  I'm hearing my name mentioned ...\n",
      "25    Pete has gotten funding   from 50 billionaires...\n",
      "26    I can't allow this to stand because it's just ...\n",
      "28    50 people. All right in Charleston alone just ...\n",
      "Name: speech, dtype: object\n",
      "\n",
      "18\n",
      "13    I dug in I did the work and then Bernie's team...\n",
      "14    Mayor Buttigieg we want to bring you in his co...\n",
      "15    I'll tell you what the Russians want. They don...\n",
      "17    Bernie Sanders' analysis is right. The differe...\n",
      "19    Well let me just finish because we need to hav...\n",
      "21    We talk about progressive let's talk about bei...\n",
      "23    Pete mentioned  I'm hearing my name mentioned ...\n",
      "25    Pete has gotten funding   from 50 billionaires...\n",
      "26    I can't allow this to stand because it's just ...\n",
      "28    50 people. All right in Charleston alone just ...\n",
      "Name: speech, dtype: object\n",
      "\n",
      "19\n",
      "13    I dug in I did the work and then Bernie's team...\n",
      "14    Mayor Buttigieg we want to bring you in his co...\n",
      "15    I'll tell you what the Russians want. They don...\n",
      "17    Bernie Sanders' analysis is right. The differe...\n",
      "19    Well let me just finish because we need to hav...\n",
      "21    We talk about progressive let's talk about bei...\n",
      "23    Pete mentioned  I'm hearing my name mentioned ...\n",
      "25    Pete has gotten funding   from 50 billionaires...\n",
      "26    I can't allow this to stand because it's just ...\n",
      "28    50 people. All right in Charleston alone just ...\n",
      "Name: speech, dtype: object\n",
      "\n",
      "20\n",
      "13    I dug in I did the work and then Bernie's team...\n",
      "14    Mayor Buttigieg we want to bring you in his co...\n",
      "15    I'll tell you what the Russians want. They don...\n",
      "17    Bernie Sanders' analysis is right. The differe...\n",
      "19    Well let me just finish because we need to hav...\n",
      "21    We talk about progressive let's talk about bei...\n",
      "23    Pete mentioned  I'm hearing my name mentioned ...\n",
      "25    Pete has gotten funding   from 50 billionaires...\n",
      "26    I can't allow this to stand because it's just ...\n",
      "28    50 people. All right in Charleston alone just ...\n",
      "Name: speech, dtype: object\n",
      "\n",
      "21\n",
      "13    I dug in I did the work and then Bernie's team...\n",
      "14    Mayor Buttigieg we want to bring you in his co...\n",
      "15    I'll tell you what the Russians want. They don...\n",
      "17    Bernie Sanders' analysis is right. The differe...\n",
      "19    Well let me just finish because we need to hav...\n",
      "21    We talk about progressive let's talk about bei...\n",
      "23    Pete mentioned  I'm hearing my name mentioned ...\n",
      "25    Pete has gotten funding   from 50 billionaires...\n",
      "26    I can't allow this to stand because it's just ...\n",
      "28    50 people. All right in Charleston alone just ...\n",
      "Name: speech, dtype: object\n",
      "\n",
      "22\n",
      "13    I dug in I did the work and then Bernie's team...\n",
      "14    Mayor Buttigieg we want to bring you in his co...\n",
      "15    I'll tell you what the Russians want. They don...\n",
      "17    Bernie Sanders' analysis is right. The differe...\n",
      "19    Well let me just finish because we need to hav...\n",
      "21    We talk about progressive let's talk about bei...\n",
      "23    Pete mentioned  I'm hearing my name mentioned ...\n",
      "25    Pete has gotten funding   from 50 billionaires...\n",
      "26    I can't allow this to stand because it's just ...\n",
      "28    50 people. All right in Charleston alone just ...\n",
      "Name: speech, dtype: object\n",
      "\n",
      "23\n",
      "15    I'll tell you what the Russians want. They don...\n",
      "17    Bernie Sanders' analysis is right. The differe...\n",
      "19    Well let me just finish because we need to hav...\n",
      "21    We talk about progressive let's talk about bei...\n",
      "23    Pete mentioned  I'm hearing my name mentioned ...\n",
      "25    Pete has gotten funding   from 50 billionaires...\n",
      "26    I can't allow this to stand because it's just ...\n",
      "28    50 people. All right in Charleston alone just ...\n",
      "29    All right Mayor Buttigieg. Vice President Bide...\n",
      "34    Well it depends on which  Look I've earned the...\n",
      "Name: speech, dtype: object\n",
      "\n",
      "24\n",
      "17    Bernie Sanders' analysis is right. The differe...\n",
      "19    Well let me just finish because we need to hav...\n",
      "21    We talk about progressive let's talk about bei...\n",
      "23    Pete mentioned  I'm hearing my name mentioned ...\n",
      "25    Pete has gotten funding   from 50 billionaires...\n",
      "26    I can't allow this to stand because it's just ...\n",
      "28    50 people. All right in Charleston alone just ...\n",
      "29    All right Mayor Buttigieg. Vice President Bide...\n",
      "34    Well it depends on which  Look I've earned the...\n",
      "35    Mr. Biden will you continue if you do not win ...\n",
      "Name: speech, dtype: object\n",
      "\n"
     ]
    }
   ],
   "source": [
    "count = data20['speech'].str.split().apply(len)\n",
    "words_left = []\n",
    "words_left_sec = []\n",
    "for i in range(3,25):\n",
    "    temp = data20[count >= i]\n",
    "    words_left.append(temp.shape[0])\n",
    "    print(i)\n",
    "    print(temp['speech'][10:20])\n",
    "    print('')\n",
    "    \n",
    "    \n",
    "    temp_secs = data20[data20['speaking_time_seconds'] >= i].shape[0]\n",
    "    words_left_sec.append(temp_secs)"
   ]
  },
  {
   "cell_type": "code",
   "execution_count": 13,
   "metadata": {
    "scrolled": false
   },
   "outputs": [
    {
     "data": {
      "image/png": "[encoded data removed]",
      "text/plain": [
       "<Figure size 432x288 with 1 Axes>"
      ]
     },
     "metadata": {
      "needs_background": "light"
     },
     "output_type": "display_data"
    }
   ],
   "source": [
    "plt.scatter([i for i in range(3,25)], words_left)\n",
    "plt.show()"
   ]
  },
  {
   "cell_type": "code",
   "execution_count": 14,
   "metadata": {
    "scrolled": true
   },
   "outputs": [
    {
     "data": {
      "image/png": "[encoded data removed]",
      "text/plain": [
       "<Figure size 432x288 with 1 Axes>"
      ]
     },
     "metadata": {
      "needs_background": "light"
     },
     "output_type": "display_data"
    }
   ],
   "source": [
    "plt.scatter([i for i in range(3,25)], words_left_sec)\n",
    "plt.show()"
   ]
  },
  {
   "cell_type": "code",
   "execution_count": 15,
   "metadata": {},
   "outputs": [],
   "source": [
    "temp_short = data20[count < 12]"
   ]
  },
  {
   "cell_type": "code",
   "execution_count": 16,
   "metadata": {},
   "outputs": [],
   "source": [
    "temp_long = data20[count >= 12]\n",
    "\n",
    "# 4.5% of the samples contained information we would want to keep"
   ]
  },
  {
   "cell_type": "code",
   "execution_count": 17,
   "metadata": {
    "scrolled": false
   },
   "outputs": [
    {
     "data": {
      "text/html": [
       "<div>\n",
       "<style scoped>\n",
       "    .dataframe tbody tr th:only-of-type {\n",
       "        vertical-align: middle;\n",
       "    }\n",
       "\n",
       "    .dataframe tbody tr th {\n",
       "        vertical-align: top;\n",
       "    }\n",
       "\n",
       "    .dataframe thead th {\n",
       "        text-align: right;\n",
       "    }\n",
       "</style>\n",
       "<table border=\"1\" class=\"dataframe\">\n",
       "  <thead>\n",
       "    <tr style=\"text-align: right;\">\n",
       "      <th></th>\n",
       "      <th>date</th>\n",
       "      <th>debate_name</th>\n",
       "      <th>debate_section</th>\n",
       "      <th>speaker</th>\n",
       "      <th>speech</th>\n",
       "      <th>speaking_time_seconds</th>\n",
       "      <th>candidate</th>\n",
       "    </tr>\n",
       "  </thead>\n",
       "  <tbody>\n",
       "    <tr>\n",
       "      <th>0</th>\n",
       "      <td>02-25-2020</td>\n",
       "      <td>South Carolina Democratic Debate Transcript: F...</td>\n",
       "      <td>Part 1: South Carolina Democratic Debate Trans...</td>\n",
       "      <td>Norah ODonnell</td>\n",
       "      <td>Good evening and welcome the Democratic presid...</td>\n",
       "      <td>8.0</td>\n",
       "      <td>False</td>\n",
       "    </tr>\n",
       "    <tr>\n",
       "      <th>1</th>\n",
       "      <td>02-25-2020</td>\n",
       "      <td>South Carolina Democratic Debate Transcript: F...</td>\n",
       "      <td>Part 1: South Carolina Democratic Debate Trans...</td>\n",
       "      <td>Gayle King</td>\n",
       "      <td>And Super Tuesday is just a week away and this...</td>\n",
       "      <td>22.0</td>\n",
       "      <td>False</td>\n",
       "    </tr>\n",
       "    <tr>\n",
       "      <th>2</th>\n",
       "      <td>02-25-2020</td>\n",
       "      <td>South Carolina Democratic Debate Transcript: F...</td>\n",
       "      <td>Part 1: South Carolina Democratic Debate Trans...</td>\n",
       "      <td>Norah ODonnell</td>\n",
       "      <td>And CBS News is proud to bring you this debate...</td>\n",
       "      <td>14.0</td>\n",
       "      <td>False</td>\n",
       "    </tr>\n",
       "    <tr>\n",
       "      <th>3</th>\n",
       "      <td>02-25-2020</td>\n",
       "      <td>South Carolina Democratic Debate Transcript: F...</td>\n",
       "      <td>Part 1: South Carolina Democratic Debate Trans...</td>\n",
       "      <td>Gayle King</td>\n",
       "      <td>And we are partnering tonight also with Twitte...</td>\n",
       "      <td>10.0</td>\n",
       "      <td>False</td>\n",
       "    </tr>\n",
       "    <tr>\n",
       "      <th>4</th>\n",
       "      <td>02-25-2020</td>\n",
       "      <td>South Carolina Democratic Debate Transcript: F...</td>\n",
       "      <td>Part 1: South Carolina Democratic Debate Trans...</td>\n",
       "      <td>Norah ODonnell</td>\n",
       "      <td>Now here are the rules for the next two hours....</td>\n",
       "      <td>31.0</td>\n",
       "      <td>False</td>\n",
       "    </tr>\n",
       "  </tbody>\n",
       "</table>\n",
       "</div>"
      ],
      "text/plain": [
       "         date                                        debate_name  \\\n",
       "0  02-25-2020  South Carolina Democratic Debate Transcript: F...   \n",
       "1  02-25-2020  South Carolina Democratic Debate Transcript: F...   \n",
       "2  02-25-2020  South Carolina Democratic Debate Transcript: F...   \n",
       "3  02-25-2020  South Carolina Democratic Debate Transcript: F...   \n",
       "4  02-25-2020  South Carolina Democratic Debate Transcript: F...   \n",
       "\n",
       "                                      debate_section          speaker  \\\n",
       "0  Part 1: South Carolina Democratic Debate Trans...  Norah ODonnell   \n",
       "1  Part 1: South Carolina Democratic Debate Trans...       Gayle King   \n",
       "2  Part 1: South Carolina Democratic Debate Trans...  Norah ODonnell   \n",
       "3  Part 1: South Carolina Democratic Debate Trans...       Gayle King   \n",
       "4  Part 1: South Carolina Democratic Debate Trans...  Norah ODonnell   \n",
       "\n",
       "                                              speech  speaking_time_seconds  \\\n",
       "0  Good evening and welcome the Democratic presid...                    8.0   \n",
       "1  And Super Tuesday is just a week away and this...                   22.0   \n",
       "2  And CBS News is proud to bring you this debate...                   14.0   \n",
       "3  And we are partnering tonight also with Twitte...                   10.0   \n",
       "4  Now here are the rules for the next two hours....                   31.0   \n",
       "\n",
       "   candidate  \n",
       "0      False  \n",
       "1      False  \n",
       "2      False  \n",
       "3      False  \n",
       "4      False  "
      ]
     },
     "execution_count": 17,
     "metadata": {},
     "output_type": "execute_result"
    }
   ],
   "source": [
    "temp_long.head()"
   ]
  },
  {
   "cell_type": "markdown",
   "metadata": {},
   "source": [
    "# Lemmatize etc."
   ]
  },
  {
   "cell_type": "code",
   "execution_count": 18,
   "metadata": {},
   "outputs": [],
   "source": [
    "def get_mappings(ending, mapped_to, stems):\n",
    "    return {stem + \"'\" + ending: stem + \" \" + mapped_to for stem in stems}\n",
    "def get_contractions(ending, mapped_to, stems):\n",
    "    return list(get_mappings(ending, mapped_to, stems).keys())\n",
    "\n",
    "is_contractions = get_contractions(\"s\", \"is\", [\"he\", \"she\", \"it\", \"what\", \"that\", \"there\", \"here\"])"
   ]
  },
  {
   "cell_type": "code",
   "execution_count": 19,
   "metadata": {},
   "outputs": [
    {
     "name": "stderr",
     "output_type": "stream",
     "text": [
      "/Library/Frameworks/Python.framework/Versions/3.7/lib/python3.7/site-packages/pandas/core/indexing.py:543: SettingWithCopyWarning: \n",
      "A value is trying to be set on a copy of a slice from a DataFrame.\n",
      "Try using .loc[row_indexer,col_indexer] = value instead\n",
      "\n",
      "See the caveats in the documentation: http://pandas.pydata.org/pandas-docs/stable/indexing.html#indexing-view-versus-copy\n",
      "  self.obj[item] = s\n"
     ]
    }
   ],
   "source": [
    "temp_long.insert(len(temp_long.columns), 'preprocessed_speech', '')\n",
    "for contraction in is_contractions:\n",
    "    temp_long.loc[:,'preprocessed_speech'] = [re.sub(contraction, \"\", s) for s in temp_long['speech']] # remove is contractions\n",
    "temp_long.loc[:,'preprocessed_speech'] = [re.sub(\"'s\", \"\", s) for s in temp_long['preprocessed_speech']] # delete 's\n",
    "temp_long.loc[:,'preprocessed_speech'] = [re.sub(\"(\\w+'\\w+)\", \"\", s) for s in temp_long['preprocessed_speech']] # remove any contraction\n"
   ]
  },
  {
   "cell_type": "code",
   "execution_count": 22,
   "metadata": {},
   "outputs": [],
   "source": [
    "import string\n",
    "\n",
    "def custom_lemmatize(words):\n",
    "    for word, tag in pos_tag([words]):\n",
    "        wntag = tag[0].lower()\n",
    "        wntag = wntag if wntag in ['a', 'r', 'n', 'v'] else None\n",
    "        if not wntag:\n",
    "            lemma = word\n",
    "        else:\n",
    "            lemma = ps.lemmatize(word, wntag)\n",
    "    return lemma\n",
    "\n",
    "def extract_words(sentence, ignore_words):\n",
    "    words = nltk.word_tokenize(sentence)\n",
    "    sentence = sentence.translate(str.maketrans('', '', string.punctuation))\n",
    "    words_cleaned = [custom_lemmatize(''.join(filter(str.isalpha, w)).lower()) for w in words if (not any(map(str.isdigit, w)) and len(w)>2)]\n",
    "    return list(filter(lambda s: s not in our_stopwords, words_cleaned))\n",
    "#     return words_cleaned  \n",
    "\n",
    "\n",
    "def tokenize_sentences(sentences):\n",
    "    words = []\n",
    "    for sentence in sentences:\n",
    "        w = extract_words(sentence, our_stopwords)\n",
    "        words.extend(w)\n",
    "        \n",
    "    counts = dict(Counter(words))\n",
    "    return counts\n",
    "\n",
    "\n",
    "def bagofwords(sentence, words):\n",
    "    sentence_words = extract_words(sentence, our_stopwords)\n",
    "    # frequency word count\n",
    "    bag = np.zeros(len(words))\n",
    "    for sw in sentence_words:\n",
    "        for i,word in enumerate(words):\n",
    "            if word == sw: \n",
    "                bag[i] += 1\n",
    "                \n",
    "    return np.array(bag)\n",
    "\n",
    "# dictionary should be a map from word to index\n",
    "def sparseBOW(sentence, dictionary):\n",
    "    sentence_words = extract_words(sentence, our_stopwords)\n",
    "    word_counts = dict(Counter(sentence_words))\n",
    "    result = []\n",
    "    index = 0\n",
    "    for word, count in word_counts.items():\n",
    "        result.append((word, count))\n",
    "        index += 1\n",
    "    return result\n",
    "\n",
    "\n",
    "def createDictionary(words):\n",
    "    words = set(words)\n",
    "    index = 0\n",
    "    dictionary = {}\n",
    "    for word in words:\n",
    "        dictionary[word] = index\n",
    "        index += 1\n",
    "    return dictionary\n"
   ]
  },
  {
   "cell_type": "code",
   "execution_count": 23,
   "metadata": {},
   "outputs": [],
   "source": [
    "# counts = tokenize_sentences(temp_long.speech)"
   ]
  },
  {
   "cell_type": "code",
   "execution_count": 24,
   "metadata": {},
   "outputs": [],
   "source": [
    "# values = list(counts.values())\n",
    "# vocab = list(counts.keys())\n",
    "# values, vocab = zip(*sorted(zip(values, vocab)))"
   ]
  },
  {
   "cell_type": "code",
   "execution_count": 25,
   "metadata": {},
   "outputs": [],
   "source": [
    "# dictionary = createDictionary(vocab)"
   ]
  },
  {
   "cell_type": "code",
   "execution_count": 26,
   "metadata": {},
   "outputs": [],
   "source": [
    "def make_preprocessed_speech_col(ignore_words):\n",
    "    temp_long.loc[:,'preprocessed_speech'] = temp_long.preprocessed_speech.map(\n",
    "        lambda s: ' '.join(extract_words(s.strip(), ignore_words)))"
   ]
  },
  {
   "cell_type": "code",
   "execution_count": 27,
   "metadata": {
    "scrolled": true
   },
   "outputs": [],
   "source": [
    "# temp_long.preprocessed_speech"
   ]
  },
  {
   "cell_type": "code",
   "execution_count": 28,
   "metadata": {},
   "outputs": [
    {
     "name": "stdout",
     "output_type": "stream",
     "text": [
      "6701\n"
     ]
    }
   ],
   "source": [
    "make_preprocessed_speech_col(our_stopwords)\n",
    "all_words = [s.split() for s in temp_long.preprocessed_speech]\n",
    "all_words = [word for words in all_words for word in words]\n",
    "word_counts = dict(Counter(all_words))\n",
    "print(len(word_counts))\n",
    "sorted_word_counts = sorted(word_counts.items(), key= lambda item: item[1])\n",
    "our_stopwords = our_stopwords.union(set(map(lambda item: item[0], \n",
    "                                            filter(lambda item: item[1] < 3, sorted_word_counts))))"
   ]
  },
  {
   "cell_type": "code",
   "execution_count": 29,
   "metadata": {},
   "outputs": [
    {
     "name": "stdout",
     "output_type": "stream",
     "text": [
      "3225\n"
     ]
    }
   ],
   "source": [
    "make_preprocessed_speech_col(our_stopwords)\n",
    "all_words = [s.split() for s in temp_long.preprocessed_speech]\n",
    "all_words = [word for words in all_words for word in words]\n",
    "dictionary = createDictionary(all_words)\n",
    "print(len(dictionary))"
   ]
  },
  {
   "cell_type": "code",
   "execution_count": 31,
   "metadata": {},
   "outputs": [],
   "source": [
    "[temp_long.loc[k, 'speech'] for k, s in temp_long.iterrows() if len(s.preprocessed_speech.split()) < 1]\n",
    "# [temp_long.loc[k, 'preprocessed_speech'] for k, s in temp_long.iterrows() if len(s.preprocessed_speech.split()) < 1]\n",
    "empty_speeches = [k for k, s in temp_long.iterrows() if len(s.preprocessed_speech.split()) < 1]"
   ]
  },
  {
   "cell_type": "code",
   "execution_count": 32,
   "metadata": {},
   "outputs": [
    {
     "name": "stderr",
     "output_type": "stream",
     "text": [
      "/Library/Frameworks/Python.framework/Versions/3.7/lib/python3.7/site-packages/pandas/core/frame.py:3940: SettingWithCopyWarning: \n",
      "A value is trying to be set on a copy of a slice from a DataFrame\n",
      "\n",
      "See the caveats in the documentation: http://pandas.pydata.org/pandas-docs/stable/indexing.html#indexing-view-versus-copy\n",
      "  errors=errors)\n"
     ]
    }
   ],
   "source": [
    "temp_long.drop(empty_speeches, inplace=True)"
   ]
  },
  {
   "cell_type": "code",
   "execution_count": 33,
   "metadata": {},
   "outputs": [],
   "source": [
    "# temp_long.speech.loc[temp_long.index == 15].iloc[0]"
   ]
  },
  {
   "cell_type": "code",
   "execution_count": 34,
   "metadata": {},
   "outputs": [],
   "source": [
    "# s = temp_long.speech.loc[temp_long.index == 13].iloc[0]\n",
    "# # re.sub(\"(\\w+'\\w+)\", \"\", s)\n",
    "# ' '.join(extract_words(s))"
   ]
  },
  {
   "cell_type": "code",
   "execution_count": 44,
   "metadata": {},
   "outputs": [
    {
     "data": {
      "text/plain": [
       "\"I'll tell you what the Russians want. They don't have a political party. They want chaos and chaos is what is coming our way. I mean look if you think the last four years has been chaotic divisive toxic exhausting imagine spending the better part of 2020 with Bernie Sanders versus Donald Trump. Think about what that will be like for this country. And meanwhile folks at home from South Carolina to South Bend are trying to figure out what any of this means for us. Because it's right that there is a progressive majority an American majority that wants to see real change wants to see wages go up and go up faster than the cost of health and saving for retirement. But also there's the majority of the American people who I think right now just to be able to turn on the TV see their President and actually feel their blood pressure go down a little bit instead of up through the roof. We have an opportunity to set a different tone.\""
      ]
     },
     "execution_count": 44,
     "metadata": {},
     "output_type": "execute_result"
    }
   ],
   "source": [
    "data20.iloc[15].speech"
   ]
  },
  {
   "cell_type": "code",
   "execution_count": 53,
   "metadata": {},
   "outputs": [
    {
     "data": {
      "text/plain": [
       "'progressive progressive walk distance mother church nine shot dead white supremacist bernie vote five brady bill monitor wait period finish wait period hour responsible nine death man able weapon wait period suggest addition progressive thought barack obama primary primary barack obama administration folk progressive progressive'"
      ]
     },
     "execution_count": 53,
     "metadata": {},
     "output_type": "execute_result"
    }
   ],
   "source": [
    "temp_long.iloc[15].preprocessed_speech"
   ]
  },
  {
   "cell_type": "markdown",
   "metadata": {},
   "source": [
    "# Saving csvs"
   ]
  },
  {
   "cell_type": "code",
   "execution_count": 54,
   "metadata": {},
   "outputs": [],
   "source": [
    "# temp_long.to_csv(\"debates_2020_updated.csv\")"
   ]
  },
  {
   "cell_type": "code",
   "execution_count": 55,
   "metadata": {},
   "outputs": [],
   "source": [
    "cols = {\"word\": []}#, \"index\": []}\n",
    "for word, k in dictionary.items():\n",
    "    cols['word'].append(word)\n",
    "#     cols['index'].append(k)\n",
    "dictionary_df = pd.DataFrame(cols)\n",
    "# dictionary_df.to_csv(\"dictionary.csv\")"
   ]
  },
  {
   "cell_type": "markdown",
   "metadata": {},
   "source": [
    "### Old Stuff"
   ]
  },
  {
   "cell_type": "code",
   "execution_count": 37,
   "metadata": {},
   "outputs": [],
   "source": [
    "## bow_representation = [bagofwords(i, vocab) for i in temp_long['speech']]\n",
    "# bow_representation = [sparseBOW(i, dictionary) for i in temp_long['speech']]"
   ]
  },
  {
   "cell_type": "code",
   "execution_count": 38,
   "metadata": {},
   "outputs": [],
   "source": [
    "# temp_long['bow_representation'] = bow_representation"
   ]
  },
  {
   "cell_type": "code",
   "execution_count": 39,
   "metadata": {},
   "outputs": [],
   "source": [
    "# vocab_plus_counts = pd.DataFrame({\"vocab\": vocab, \"counts\": values})\n",
    "# vocab_plus_counts = vocab_plus_counts[vocab_plus_counts['counts'] > 500]\n",
    "# # vocab_plus_counts.to_csv(\"vocab.csv\")"
   ]
  },
  {
   "cell_type": "code",
   "execution_count": 40,
   "metadata": {
    "scrolled": true
   },
   "outputs": [],
   "source": [
    "# for i in range(0, 50):\n",
    "#     print(str(vocab_plus_counts['vocab'].iloc[i]) + \"    \" + str(vocab_plus_counts['counts'].iloc[i]))"
   ]
  },
  {
   "cell_type": "code",
   "execution_count": 41,
   "metadata": {},
   "outputs": [],
   "source": [
    "keeps = [\n",
    "    'abolish',\n",
    "    'bailout',\n",
    "    'assassination',\n",
    "    'autopay',\n",
    "    'beijing',\n",
    "    'betray',\n",
    "    'betrayal',\n",
    "    'aclu',\n",
    "] # 50"
   ]
  },
  {
   "cell_type": "code",
   "execution_count": 42,
   "metadata": {},
   "outputs": [],
   "source": [
    "# pd.DataFrame({\"stopwords\": list(our_stopwords)}).to_csv(\"stopwords.csv\")"
   ]
  },
  {
   "cell_type": "code",
   "execution_count": null,
   "metadata": {},
   "outputs": [],
   "source": []
  }
 ],
 "metadata": {
  "kernelspec": {
   "display_name": "Python 3",
   "language": "python",
   "name": "python3"
  },
  "language_info": {
   "codemirror_mode": {
    "name": "ipython",
    "version": 3
   },
   "file_extension": ".py",
   "mimetype": "text/x-python",
   "name": "python",
   "nbconvert_exporter": "python",
   "pygments_lexer": "ipython3",
   "version": "3.7.6"
  }
 },
 "nbformat": 4,
 "nbformat_minor": 4
}
