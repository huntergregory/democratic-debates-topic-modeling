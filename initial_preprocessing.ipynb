{
 "cells": [
  {
   "cell_type": "code",
   "execution_count": 5,
   "metadata": {},
   "outputs": [],
   "source": [
    "import pandas as pd"
   ]
  },
  {
   "cell_type": "code",
   "execution_count": 6,
   "metadata": {},
   "outputs": [],
   "source": [
    "data20 = pd.read_csv(\"debate_transcripts_v3_2020-02-26.csv\", encoding='ISO-8859-1')"
   ]
  },
  {
   "cell_type": "code",
   "execution_count": 15,
   "metadata": {},
   "outputs": [],
   "source": [
    "candidate_names = \"\"\"Andrew Yang\n",
    "John Delaney\n",
    "Elizabeth Warren\n",
    "Beto O'Rourke\n",
    "Pete Buttigieg\n",
    "Bernie Sanders\n",
    "Steve Bullock\n",
    "Michael Bennet\n",
    "Amy Klobuchar\n",
    "Kamala Harris\n",
    "Tulsi Gabbard\n",
    "Marriane Williamson\n",
    "Julian Castro\n",
    "Cory Booker\n",
    "Joe Biden\n",
    "Jay Inslee\n",
    "John Hickenlooper\n",
    "Tom Steyer\n",
    "Michael Bloomberg\n",
    "Eric Swalwell\n",
    "Bill De Blasio\n",
    "Kirsten Gillibrand\n",
    "Seth Moulton\n",
    "Tim Ryan\"\"\"\n",
    "candidate_names = candidate_names.split(\"\\n\")"
   ]
  },
  {
   "cell_type": "code",
   "execution_count": 9,
   "metadata": {},
   "outputs": [
    {
     "name": "stdout",
     "output_type": "stream",
     "text": [
      "5\n",
      "4657\n",
      "\n",
      "6\n",
      "4407\n",
      "\n",
      "7\n",
      "4192\n",
      "\n",
      "8\n",
      "4037\n",
      "\n",
      "9\n",
      "3885\n",
      "\n",
      "10\n",
      "3772\n",
      "\n",
      "11\n",
      "3645\n",
      "\n",
      "12\n",
      "3548\n",
      "\n",
      "13\n",
      "3479\n",
      "\n",
      "14\n",
      "3414\n",
      "\n",
      "15\n",
      "3335\n",
      "\n",
      "16\n",
      "3275\n",
      "\n",
      "17\n",
      "3205\n",
      "\n",
      "18\n",
      "3145\n",
      "\n",
      "19\n",
      "3102\n",
      "\n",
      "20\n",
      "3048\n",
      "\n",
      "21\n",
      "3001\n",
      "\n",
      "22\n",
      "2958\n",
      "\n",
      "23\n",
      "2928\n",
      "\n",
      "24\n",
      "2889\n",
      "\n"
     ]
    }
   ],
   "source": [
    "count = data20['speech'].str.split().apply(len)\n",
    "for i in range(5,25):\n",
    "    print(i)\n",
    "    print(data20[count >= i].shape[0])\n",
    "    print('')"
   ]
  }
 ],
 "metadata": {
  "kernelspec": {
   "display_name": "Python 3",
   "language": "python",
   "name": "python3"
  },
  "language_info": {
   "codemirror_mode": {
    "name": "ipython",
    "version": 3
   },
   "file_extension": ".py",
   "mimetype": "text/x-python",
   "name": "python",
   "nbconvert_exporter": "python",
   "pygments_lexer": "ipython3",
   "version": "3.7.6"
  }
 },
 "nbformat": 4,
 "nbformat_minor": 4
}
